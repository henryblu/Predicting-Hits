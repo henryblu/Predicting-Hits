{
 "cells": [
  {
   "cell_type": "code",
   "execution_count": 4,
   "id": "ddda66ec",
   "metadata": {},
   "outputs": [],
   "source": [
    "import spotipy\n",
    "from spotipy.oauth2 import SpotifyClientCredentials\n",
    "from spotipy.oauth2 import SpotifyOAuth\n",
    "\n",
    "#Spotipy documentation: https://spotipy.readthedocs.io/en/master/"
   ]
  },
  {
   "cell_type": "code",
   "execution_count": 9,
   "id": "5fde1bc7",
   "metadata": {},
   "outputs": [],
   "source": [
    "#Write here the client ID and secret ID from spotify API dashboard\n",
    "SPOTIPY_CLIENT_ID = ''\n",
    "SPOTIPY_CLIENT_SECRET = ''\n",
    "REDIRECT_URI = 'http://localhost:7000/callback'\n",
    "scope = \"user-library-read\"\n",
    "\n",
    "cache_handler = spotipy.cache_handler.MemoryCacheHandler()\n",
    "auth_manager = SpotifyClientCredentials(client_id = SPOTIPY_CLIENT_ID, client_secret=SPOTIPY_CLIENT_SECRET, cache_handler=cache_handler)\n",
    "\n",
    "sp = spotipy.Spotify(auth_manager = auth_manager)"
   ]
  },
  {
   "cell_type": "code",
   "execution_count": 10,
   "id": "e14dc752",
   "metadata": {},
   "outputs": [],
   "source": [
    "#Testing finding genre\n",
    "results = sp.available_markets()\n",
    "sp.category('0JQ5DAqbMKFEC4WFtoNRpw', country = 'FI')\n",
    "pop = '0JQ5DAqbMKFEC4WFtoNRpw'"
   ]
  },
  {
   "cell_type": "markdown",
   "id": "9c429cb0",
   "metadata": {},
   "source": [
    "Next cell below finds a random song in the finnish market according to spotify, returns the name, popularity and audio features"
   ]
  },
  {
   "cell_type": "code",
   "execution_count": 32,
   "id": "fcfd2970",
   "metadata": {},
   "outputs": [
    {
     "data": {
      "text/plain": [
       "('Taloni sanoo minulle',\n",
       " 2,\n",
       " [{'danceability': 0.421,\n",
       "   'energy': 0.115,\n",
       "   'key': 10,\n",
       "   'loudness': -16.429,\n",
       "   'mode': 1,\n",
       "   'speechiness': 0.0398,\n",
       "   'acousticness': 0.982,\n",
       "   'instrumentalness': 0.131,\n",
       "   'liveness': 0.114,\n",
       "   'valence': 0.11,\n",
       "   'tempo': 65.717,\n",
       "   'type': 'audio_features',\n",
       "   'id': '1HewnZSHNxPSBAKBri30Yg',\n",
       "   'uri': 'spotify:track:1HewnZSHNxPSBAKBri30Yg',\n",
       "   'track_href': 'https://api.spotify.com/v1/tracks/1HewnZSHNxPSBAKBri30Yg',\n",
       "   'analysis_url': 'https://api.spotify.com/v1/audio-analysis/1HewnZSHNxPSBAKBri30Yg',\n",
       "   'duration_ms': 244706,\n",
       "   'time_signature': 4}])"
      ]
     },
     "execution_count": 32,
     "metadata": {},
     "output_type": "execute_result"
    }
   ],
   "source": [
    "import random\n",
    "import string\n",
    "random_character = random.choice(string.ascii_letters)\n",
    "random_search = random_character + '%'\n",
    "offset = random.randint(1,1000)\n",
    "year = '1990'\n",
    "\n",
    "songs = sp.search(q = 'track:' + random_search + ' year:' + year, type = 'track', market = 'FI', offset = offset, limit = 1)\n",
    "\n",
    "first_song = songs['tracks']['items'][0]\n",
    "first_song_name = first_song['name']\n",
    "first_song_popularity = first_song['popularity']\n",
    "first_song_audio_features = sp.audio_features(first_song['id'])\n",
    "\n",
    "\n",
    "first_song_name, first_song_popularity, first_song_audio_features\n",
    "\n",
    "#features = sp.audio_features(id)\n",
    "#features"
   ]
  }
 ],
 "metadata": {
  "kernelspec": {
   "display_name": "Python 3",
   "language": "python",
   "name": "python3"
  },
  "language_info": {
   "codemirror_mode": {
    "name": "ipython",
    "version": 3
   },
   "file_extension": ".py",
   "mimetype": "text/x-python",
   "name": "python",
   "nbconvert_exporter": "python",
   "pygments_lexer": "ipython3",
   "version": "3.8.8"
  }
 },
 "nbformat": 4,
 "nbformat_minor": 5
}
