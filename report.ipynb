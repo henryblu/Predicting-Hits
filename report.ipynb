{
 "cells": [
  {
   "cell_type": "markdown",
   "metadata": {},
   "source": [
    "# report rough draft and planning "
   ]
  },
  {
   "cell_type": "markdown",
   "metadata": {},
   "source": [
    "### Technical report description: \n",
    "\n",
    "- The technical report is simply an essay you can return in PDF (max 5 pages).\n",
    "\n",
    "- This is the place to describe the technical components of your work, and refer to all the methods you used backend and usually are not interesting to your target audience. \n",
    "    \n",
    "- Reflect on your initial mini-project canvas: what worked? What didn't (and why)? \n",
    "    - What changes did you have to make from your initial plan and why?\n",
    "    - What would you have done differently now? \n",
    "    - What would possible future steps be? \n",
    "    - Tell us about your experience, technical implementation of the project and reflect on your learning outcomes. \n",
    "\n",
    "\n",
    "- The structure of the report is up to you. \n",
    "- If it helps, you can use the elements of the mini-project canvas, e.g. data collection, preprocessing, visualisations, machine learning, communication of results, building the platform, etc."
   ]
  },
  {
   "cell_type": "markdown",
   "metadata": {},
   "source": [
    "### Related Assessment Criteria: \n",
    "these are all things that should be covered in the report\n",
    "#### Value: \n",
    "- What is the value of the final deliverable? \n",
    "- How useful are the results of the project?\n",
    "#### Effort: \n",
    "-  Do you think there was a sufficient amount of work put into the project?\n",
    "#### Idea: \n",
    "- How original is the topic idea in your opinion? \n",
    "- How useful/innovative is it? \n",
    "- Could it have more applications than the one described in this case?\n",
    "#### Topic scope: \n",
    "- How suitable was this project for this course? \n",
    "- Are all stages of the data life cycle taken into account?\n",
    "#### Actionable: \n",
    "- How actionable is the outcome? \n",
    "- Could it be used in real life applications?\n",
    "#### Deliverables: \n",
    "- How understandable/beneficial is the project outcome to your target end-user? \n",
    "    - How clear is the problem definition and the implemented approach? \n",
    "    - How clear is the added value? \n",
    "    - Are the results well-communicated to your target end-user? \n",
    "    - Clarity and soundness of technical report. \n",
    "    - What were the learning outcomes you achieved?\n",
    "#### Project analysis: \n",
    "- Data wrangling, data analysis, communication of results will be taken into account, according to each project topic. \n",
    "- For example, the visualizations of a project: \n",
    "    - How well do the visualizations communicate the point made? \n",
    "    - How do they contribute to the added value? \n",
    "    - Is it possible that analysis of other available variables could have provided more added value to the end-user?"
   ]
  },
  {
   "cell_type": "markdown",
   "metadata": {},
   "source": [
    "### Structure:\n",
    "\n",
    "Introduction\n",
    "- intro to what hte project is \n",
    "\n",
    "body:\n",
    "- data collection\n",
    "    - \n",
    "- preprocessing\n",
    "    -\n",
    "- visualisations\n",
    "    - \n",
    "- machine learning\n",
    "- communication of results\n",
    "- building the platform\n",
    "- added value\n",
    "\n",
    "concluion \n",
    "\n",
    "apendisies \n",
    "- git hub link \n",
    "- website link "
   ]
  }
 ],
 "metadata": {
  "kernelspec": {
   "display_name": "Python 3.9.6 64-bit",
   "language": "python",
   "name": "python3"
  },
  "language_info": {
   "name": "python",
   "version": "3.9.6"
  },
  "orig_nbformat": 4,
  "vscode": {
   "interpreter": {
    "hash": "4236b1bd8af5c88b200f8ae259f28c355fd90bec7f49eb3a4c44b52c2fc9f9b2"
   }
  }
 },
 "nbformat": 4,
 "nbformat_minor": 2
}
